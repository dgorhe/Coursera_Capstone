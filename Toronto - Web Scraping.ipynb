{
 "cells": [
  {
   "cell_type": "markdown",
   "metadata": {},
   "source": [
    "<div align='center'><h1>Toronto Web Scraping</h1></div>\n",
    "<div align='center'><h3>by Darvesh Gorhe</h3></div>\n",
    "\n",
    "This notebook is the code necessary to the scrape [this](https://en.wikipedia.org/wiki/List_of_postal_codes_of_Canada:_M) wikipedia page which lists all of the postal codes, boroughs, and their respective neighborhoods for Toronto. We wanted a pandas dataframe to store all postal codes that were assigned a borough and their respective neighborhoods. To achieve this we:\n",
    "1. Import the modules in the cell below\n",
    "2. Extract information in each cell via BeautifulSoup4\n",
    "3. Fill a dataframe with that information\n",
    "4. Clean that dataframe to remove unwanted rows/cells"
   ]
  },
  {
   "cell_type": "markdown",
   "metadata": {},
   "source": [
    "### Importing Necessary Libraries"
   ]
  },
  {
   "cell_type": "code",
   "execution_count": 1,
   "metadata": {},
   "outputs": [],
   "source": [
    "# Library for storing, manipulating, analyzing data\n",
    "import pandas as pd\n",
    "\n",
    "# Web Scraping\n",
    "from bs4 import BeautifulSoup as bs\n",
    "import requests\n",
    "import html5lib"
   ]
  },
  {
   "cell_type": "markdown",
   "metadata": {},
   "source": [
    "### Getting Table as HTML"
   ]
  },
  {
   "cell_type": "code",
   "execution_count": 2,
   "metadata": {
    "scrolled": true
   },
   "outputs": [],
   "source": [
    "# Getting HTML from Wikipedia\n",
    "url = 'https://en.wikipedia.org/wiki/List_of_postal_codes_of_Canada:_M'\n",
    "t = requests.get(url) # Requesting the raw HTML from wikipedia\n",
    "t.encoding = 'utf-8' # Making sure it's encoded in utf-8\n",
    "soup = bs(t.text, 'html5lib') # Storing it as a BeautifulSoup Object\n",
    "\n",
    "b # Extracting the table of interest\n",
    "\n",
    "rows = table.find_all('tr') # Extracting rows\n",
    "rows = rows[1:] # Selecting only the "
   ]
  },
  {
   "cell_type": "markdown",
   "metadata": {},
   "source": [
    "### Putting Data Into Dataframe"
   ]
  },
  {
   "cell_type": "code",
   "execution_count": 3,
   "metadata": {},
   "outputs": [],
   "source": [
    "# Creating a dataframe with the 3 columns\n",
    "cols = ['Postal Code', 'Borough', 'Neighborhood']\n",
    "df = pd.DataFrame(columns = cols)\n",
    "\n",
    "# Retrieving each cell and putting into a dataframe\n",
    "for row in rows:\n",
    "    row_n = row.find_all('td')\n",
    "    \n",
    "    postal_code = str(row_n[0].string).replace('\\n', '') \n",
    "    borough = str(row_n[1].string).replace('\\n', '')\n",
    "    neighborhood = str(row_n[2].string).replace('\\n', '')\n",
    "    \n",
    "    df = df.append({'Postal Code': postal_code,\n",
    "                'Borough': borough,\n",
    "                'Neighborhood': neighborhood}, ignore_index=True)"
   ]
  },
  {
   "cell_type": "markdown",
   "metadata": {},
   "source": [
    "### Cleaning Dataframe"
   ]
  },
  {
   "cell_type": "code",
   "execution_count": 4,
   "metadata": {
    "scrolled": true
   },
   "outputs": [],
   "source": [
    "df.astype({'Postal Code':'object', \n",
    "           'Borough':'object', \n",
    "           'Neighborhood':'object'}) # changing all python str objects to pandas objects\n",
    "\n",
    "# Replacing forward slashes (/) with commas (,)\n",
    "for n in range(0,len(df['Neighborhood'])):\n",
    "    replaced = df['Neighborhood'][n].replace('/', ', ')\n",
    "    df['Neighborhood'][n] = replaced\n",
    "\n",
    "# Removing any unassigned boroughs\n",
    "df = df[df.Borough != 'Not assigned']\n",
    "\n",
    "# Resetting the index of the dataframe\n",
    "df.reset_index(drop=True, inplace=True)"
   ]
  },
  {
   "cell_type": "markdown",
   "metadata": {},
   "source": [
    "### Result"
   ]
  },
  {
   "cell_type": "code",
   "execution_count": 5,
   "metadata": {},
   "outputs": [
    {
     "name": "stdout",
     "output_type": "stream",
     "text": [
      "The following dataframe has 103 rows \n",
      "\n"
     ]
    },
    {
     "data": {
      "text/html": [
       "<div>\n",
       "<style scoped>\n",
       "    .dataframe tbody tr th:only-of-type {\n",
       "        vertical-align: middle;\n",
       "    }\n",
       "\n",
       "    .dataframe tbody tr th {\n",
       "        vertical-align: top;\n",
       "    }\n",
       "\n",
       "    .dataframe thead th {\n",
       "        text-align: right;\n",
       "    }\n",
       "</style>\n",
       "<table border=\"1\" class=\"dataframe\">\n",
       "  <thead>\n",
       "    <tr style=\"text-align: right;\">\n",
       "      <th></th>\n",
       "      <th>Postal Code</th>\n",
       "      <th>Borough</th>\n",
       "      <th>Neighborhood</th>\n",
       "    </tr>\n",
       "  </thead>\n",
       "  <tbody>\n",
       "    <tr>\n",
       "      <th>0</th>\n",
       "      <td>M3A</td>\n",
       "      <td>North York</td>\n",
       "      <td>Parkwoods</td>\n",
       "    </tr>\n",
       "    <tr>\n",
       "      <th>1</th>\n",
       "      <td>M4A</td>\n",
       "      <td>North York</td>\n",
       "      <td>Victoria Village</td>\n",
       "    </tr>\n",
       "    <tr>\n",
       "      <th>2</th>\n",
       "      <td>M5A</td>\n",
       "      <td>Downtown Toronto</td>\n",
       "      <td>Regent Park ,  Harbourfront</td>\n",
       "    </tr>\n",
       "    <tr>\n",
       "      <th>3</th>\n",
       "      <td>M6A</td>\n",
       "      <td>North York</td>\n",
       "      <td>Lawrence Manor ,  Lawrence Heights</td>\n",
       "    </tr>\n",
       "    <tr>\n",
       "      <th>4</th>\n",
       "      <td>M7A</td>\n",
       "      <td>Downtown Toronto</td>\n",
       "      <td>Queen's Park ,  Ontario Provincial Government</td>\n",
       "    </tr>\n",
       "  </tbody>\n",
       "</table>\n",
       "</div>"
      ],
      "text/plain": [
       "  Postal Code           Borough                                   Neighborhood\n",
       "0         M3A        North York                                      Parkwoods\n",
       "1         M4A        North York                               Victoria Village\n",
       "2         M5A  Downtown Toronto                    Regent Park ,  Harbourfront\n",
       "3         M6A        North York             Lawrence Manor ,  Lawrence Heights\n",
       "4         M7A  Downtown Toronto  Queen's Park ,  Ontario Provincial Government"
      ]
     },
     "execution_count": 5,
     "metadata": {},
     "output_type": "execute_result"
    }
   ],
   "source": [
    "print(\"The following dataframe has\", df.shape[0], \"rows\", '\\n')\n",
    "\n",
    "df.head()"
   ]
  }
 ],
 "metadata": {
  "kernelspec": {
   "display_name": "Python 3",
   "language": "python",
   "name": "python3"
  },
  "language_info": {
   "codemirror_mode": {
    "name": "ipython",
    "version": 3
   },
   "file_extension": ".py",
   "mimetype": "text/x-python",
   "name": "python",
   "nbconvert_exporter": "python",
   "pygments_lexer": "ipython3",
   "version": "3.7.3"
  }
 },
 "nbformat": 4,
 "nbformat_minor": 2
}
