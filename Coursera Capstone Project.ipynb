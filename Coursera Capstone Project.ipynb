{
 "cells": [
  {
   "cell_type": "markdown",
   "metadata": {},
   "source": [
    "## IBM Data Science Specialization - Final Project\n",
    "\n",
    "This is the notebook for Darvesh Gorhe's capstone project for the IBM Data Specialization on Coursera"
   ]
  },
  {
   "cell_type": "code",
   "execution_count": null,
   "metadata": {},
   "outputs": [],
   "source": [
    "import pandas as pd\n",
    "import numpy as np\n",
    "import requests\n",
    "import random\n",
    "\n",
    "from IPython.display import Image\n",
    "from IPython.core.display import HTML\n",
    "\n",
    "import requests # library to handle requests\n",
    "import pandas as pd # library for data analsysis\n",
    "import numpy as np # library to handle data in a vectorized manner\n",
    "import random # library for random number generation\n",
    "\n",
    "from geopy.geocoders import Nominatim # module to convert an address into latitude and longitude values\n",
    "\n",
    "# libraries for displaying images\n",
    "from IPython.display import Image \n",
    "from IPython.core.display import HTML \n",
    "    \n",
    "# tranforming json file into a pandas dataframe library\n",
    "from pandas.io.json import json_normalize\n",
    "\n",
    "import folium # plotting library\n",
    "\n",
    "print('Libraries imported.')\n",
    "\n",
    "print(\"Hello Capstone Project Course!\")"
   ]
  },
  {
   "cell_type": "code",
   "execution_count": 1,
   "metadata": {},
   "outputs": [],
   "source": [
    "{\n",
    "    \"tags\": [\n",
    "        \"hide_input\",\n",
    "    ]\n",
    "}\n",
    "\n",
    "CLIENT_ID = 'KGXJMPLRR52DZFGT3KTZPE3ZNVPYSAINZ1FWVEZLEHYOSMZZ' # Foursquare ID\n",
    "CLIENT_SECRET = 'RJWEQT0O1URM0LDVVN4YJ4E41LK0QOBFQKAYLF32W5LSIJMI' # Foursquare Secret\n",
    "VERSION = '20200326'\n",
    "LIMIT = 30\n",
    "print('Your credentails:')\n",
    "print('CLIENT_ID: ' + CLIENT_ID)\n",
    "print('CLIENT_SECRET:' + CLIENT_SECRET)"
   ]
  },
  {
   "cell_type": "markdown",
   "metadata": {},
   "source": [
    "## A. Introduction\n",
    "\n",
    "### A.1 Problem Outline\n",
    "For this project, I wanted to compare the coffee scene in four US cities: San Francisco, Los Angeles, Seattle, and New York. The purpose of this is to understand which cities high competition among coffee shops and where would be a good place to invest in more coffee shops. If I was a big coffee chain and I wanted to determine where to open more coffee shops, this data would be useful in determining where to open new storefronts among these cities. Of course this could be extended to more cities but for this project, we'll limit it to these 4 cities. \n",
    "\n",
    "### A.2 Data Used\n",
    "I will be using the following data from each city for my analysis:\n",
    "* Absolute number of coffee shops \n",
    "* Average number of hours the shops are open\n",
    "* Median number of hours the shops are open\n",
    "* Standard deviation in coffee shop hours \n",
    "\n",
    "Furthermore I will also be using k-means clustering to create groups of "
   ]
  },
  {
   "cell_type": "code",
   "execution_count": 13,
   "metadata": {},
   "outputs": [
    {
     "name": "stdout",
     "output_type": "stream",
     "text": [
      "17\n"
     ]
    }
   ],
   "source": []
  },
  {
   "cell_type": "code",
   "execution_count": null,
   "metadata": {},
   "outputs": [],
   "source": []
  }
 ],
 "metadata": {
  "kernelspec": {
   "display_name": "Python 3",
   "language": "python",
   "name": "python3"
  },
  "language_info": {
   "codemirror_mode": {
    "name": "ipython",
    "version": 3
   },
   "file_extension": ".py",
   "mimetype": "text/x-python",
   "name": "python",
   "nbconvert_exporter": "python",
   "pygments_lexer": "ipython3",
   "version": "3.7.3"
  }
 },
 "nbformat": 4,
 "nbformat_minor": 2
}
